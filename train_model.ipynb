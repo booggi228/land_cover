{
 "cells": [
  {
   "cell_type": "code",
   "execution_count": 1,
   "metadata": {},
   "outputs": [],
   "source": [
    "%reload_ext autoreload\n",
    "%autoreload 2\n",
    "%matplotlib inline\n",
    "\n",
    "# Built-in modules\n",
    "import pickle\n",
    "import sys\n",
    "import os\n",
    "import datetime\n",
    "import itertools\n",
    "from aenum import MultiValueEnum\n",
    "import pandas as pd\n",
    "# Basics of Python data handling and visualization\n",
    "import numpy as np\n",
    "np.random.seed(42)\n",
    "import geopandas as gpd\n",
    "import matplotlib as mpl\n",
    "import matplotlib.pyplot as plt\n",
    "import matplotlib.gridspec as gridspec\n",
    "from matplotlib.colors import ListedColormap, BoundaryNorm\n",
    "from mpl_toolkits.axes_grid1 import make_axes_locatable\n",
    "from shapely.geometry import Polygon\n",
    "from tqdm.auto import tqdm\n",
    "from os import makedirs, path as op\n",
    "# Machine learning\n",
    "import lightgbm as lgb\n",
    "import joblib\n",
    "from sklearn import metrics\n",
    "from sklearn import preprocessing\n",
    "\n",
    "# Imports from eo-learn and sentinelhub-py\n",
    "from eolearn.core import EOTask, EOPatch, LinearWorkflow, FeatureType, OverwritePermission, \\\n",
    "    LoadTask, SaveTask, EOExecutor, ExtractBandsTask, MergeFeatureTask\n",
    "from eolearn.io import SentinelHubInputTask, VectorImportTask, ExportToTiff\n",
    "from eolearn.mask import AddValidDataMaskTask\n",
    "from eolearn.geometry import VectorToRaster, PointSamplingTask, ErosionTask\n",
    "from eolearn.features import LinearInterpolation, SimpleFilterTask, NormalizedDifferenceIndexTask\n",
    "from sentinelhub import UtmZoneSplitter, BBox, CRS, DataCollection, SHConfig, BBoxSplitter\n",
    "from utils import (SentinelHubValidData, CountValid, NormalizedDifferenceIndex, ConcatenateData, ValidDataFractionPredicate)"
   ]
  },
  {
   "cell_type": "code",
   "execution_count": 2,
   "metadata": {},
   "outputs": [
    {
     "name": "stderr",
     "output_type": "stream",
     "text": [
      "/home/vlas/.local/lib/python3.8/site-packages/ipykernel/ipkernel.py:283: DeprecationWarning: `should_run_async` will not call `transform_cell` automatically in the future. Please pass the result to `transformed_cell` argument and any exception that happen during thetransform in `preprocessing_exc_tuple` in IPython 7.17 and above.\n",
      "  and should_run_async(code)\n"
     ]
    }
   ],
   "source": [
    "# Folder where data for running the notebook is located\n",
    "DATA_FOLDER = os.path.join('.', 'example_data')\n",
    "\n",
    "# Folder where data will be stored\n",
    "EOPATCH_FOLDER = os.path.join('.', 'eopatches', 'eopatches')\n",
    "EOPATCH_SAMPLES_FOLDER = os.path.join('.', 'eopatches_sampled')\n",
    "RESULTS_FOLDER = os.path.join('.', 'results')\n",
    "os.makedirs(EOPATCH_FOLDER, exist_ok=True)\n",
    "os.makedirs(EOPATCH_SAMPLES_FOLDER, exist_ok=True)\n",
    "os.makedirs(RESULTS_FOLDER, exist_ok=True)"
   ]
  },
  {
   "cell_type": "code",
   "execution_count": 3,
   "metadata": {},
   "outputs": [],
   "source": [
    "countries = gpd.read_file('data.gpkg')\n",
    "country = countries[countries.SOVEREIGNT.str.contains('Slovenia')]\n",
    "# Convert CRS to UTM_33N\n",
    "country_crs = CRS.UTM_33N\n",
    "\n",
    "if country.crs != country_crs:\n",
    "    country = country.to_crs(crs=country_crs.pyproj_crs())\n",
    "\n",
    "country_shape = country.geometry.tolist()[-1]\n",
    "width_pix = int((country_shape.bounds[2]-country_shape.bounds[0])/10)\n",
    "height_pix = int((country_shape.bounds[3]-country_shape.bounds[1])/10)\n",
    "\n",
    "bbox_splitter = BBoxSplitter([country_shape], country_crs, (25, 17))\n",
    "bbox_list = bbox_splitter.get_bbox_list()\n",
    "info_list = bbox_splitter.get_info_list()\n",
    "\n",
    "geometry = [Polygon(bbox.get_polygon()) for bbox in bbox_splitter.bbox_list]\n",
    "idxs_x = [info['index_x'] for info in bbox_splitter.info_list]\n",
    "idxs_y = [info['index_y'] for info in bbox_splitter.info_list]\n",
    "\n",
    "df = pd.DataFrame({'index_x':idxs_x, 'index_y':idxs_y})\n",
    "common_crs = bbox_splitter.bbox_list[0].crs\n",
    "gdf = gpd.GeoDataFrame(df, crs=common_crs.pyproj_crs(), geometry=geometry)"
   ]
  },
  {
   "cell_type": "code",
   "execution_count": 6,
   "metadata": {},
   "outputs": [
    {
     "data": {
      "text/plain": [
       "24218"
      ]
     },
     "execution_count": 6,
     "metadata": {},
     "output_type": "execute_result"
    }
   ],
   "source": [
    "width_pix"
   ]
  },
  {
   "cell_type": "code",
   "execution_count": 4,
   "metadata": {},
   "outputs": [],
   "source": [
    "ID = 100\n",
    "# Obtain surrounding 5x5 patches\n",
    "patchIDs = []\n",
    "for idx, (bbox, info) in enumerate(zip(bbox_list, info_list)):\n",
    "    if (abs(info['index_x'] - info_list[ID]['index_x']) <= 2 and\n",
    "        abs(info['index_y'] - info_list[ID]['index_y']) <= 2):\n",
    "        patchIDs.append(idx)\n",
    "\n",
    "# Check if final size is 3x3\n",
    "if len(patchIDs) != 5*5:\n",
    "    print('Warning! Use a different central patch ID, this one is on the border.')\n",
    "\n",
    "# Change the order of the patches (useful for plotting)\n",
    "patchIDs = np.transpose(np.fliplr(np.array(patchIDs).reshape(5, 5))).ravel()\n",
    "\n",
    "# Save to shapefile\n",
    "shapefile_name = 'ukraine_500x500.gpkg'\n",
    "gdf.to_file(os.path.join(RESULTS_FOLDER, shapefile_name), driver='GPKG')"
   ]
  },
  {
   "cell_type": "code",
   "execution_count": 5,
   "metadata": {},
   "outputs": [],
   "source": [
    "# Load sampled eopatches\n",
    "sampled_eopatches = []\n",
    "\n",
    "for i in range(len(patchIDs)):\n",
    "    sample_path = os.path.join(EOPATCH_SAMPLES_FOLDER, f'eopatch_{i}')\n",
    "    sampled_eopatches.append(EOPatch.load(sample_path, lazy_loading=True))"
   ]
  },
  {
   "cell_type": "code",
   "execution_count": 14,
   "metadata": {},
   "outputs": [],
   "source": [
    "eopatch = sampled_eopatches[12]\n",
    "width, height = eopatch.mask_timeless['LULC'].squeeze().shape"
   ]
  },
  {
   "cell_type": "code",
   "execution_count": 14,
   "metadata": {},
   "outputs": [
    {
     "data": {
      "text/plain": [
       "(1, 1)"
      ]
     },
     "execution_count": 14,
     "metadata": {},
     "output_type": "execute_result"
    }
   ],
   "source": [
    "index, radius = 190, 1.5\n",
    "r = int(radius)\n",
    "row, column = index // width, index % width\n",
    "row, column"
   ]
  },
  {
   "cell_type": "code",
   "execution_count": 73,
   "metadata": {},
   "outputs": [],
   "source": [
    "# определяем координаты пикселя\n",
    "x = np.arange(max(column - r, 0), min(column + r + 1, width))\n",
    "y = np.arange(max(row - r, 0), min(row + r + 1, height))"
   ]
  },
  {
   "cell_type": "code",
   "execution_count": 74,
   "metadata": {},
   "outputs": [
    {
     "data": {
      "image/png": "[encoded data removed]",
      "text/plain": [
       "<Figure size 432x288 with 1 Axes>"
      ]
     },
     "metadata": {
      "needs_background": "light"
     },
     "output_type": "display_data"
    }
   ],
   "source": [
    "X,Y = np.meshgrid(x,y)\n",
    "plt.plot(X,Y, marker='.', linestyle='none')\n",
    "plt.show()"
   ]
  },
  {
   "cell_type": "code",
   "execution_count": 75,
   "metadata": {},
   "outputs": [
    {
     "name": "stderr",
     "output_type": "stream",
     "text": [
      "/home/vlas/.local/lib/python3.8/site-packages/ipykernel/ipkernel.py:283: DeprecationWarning: `should_run_async` will not call `transform_cell` automatically in the future. Please pass the result to `transformed_cell` argument and any exception that happen during thetransform in `preprocessing_exc_tuple` in IPython 7.17 and above.\n",
      "  and should_run_async(code)\n"
     ]
    },
    {
     "data": {
      "text/plain": [
       "array([[1.41421356, 1.        , 1.41421356],\n",
       "       [1.        , 0.        , 1.        ],\n",
       "       [1.41421356, 1.        , 1.41421356]])"
      ]
     },
     "execution_count": 75,
     "metadata": {},
     "output_type": "execute_result"
    }
   ],
   "source": [
    "R = np.sqrt(((X - column)**2 + (Y - row)**2))\n",
    "R"
   ]
  },
  {
   "cell_type": "code",
   "execution_count": 76,
   "metadata": {},
   "outputs": [],
   "source": [
    "mask = R < radius"
   ]
  },
  {
   "cell_type": "code",
   "execution_count": 77,
   "metadata": {},
   "outputs": [
    {
     "data": {
      "text/plain": [
       "(array([176, 177, 178, 176, 177, 178, 176, 177, 178]),\n",
       " array([0, 0, 0, 1, 1, 1, 2, 2, 2]))"
      ]
     },
     "execution_count": 77,
     "metadata": {},
     "output_type": "execute_result"
    }
   ],
   "source": [
    "X[mask], Y[mask]"
   ]
  },
  {
   "cell_type": "code",
   "execution_count": 78,
   "metadata": {},
   "outputs": [
    {
     "data": {
      "text/plain": [
       "array([176, 177, 178, 365, 366, 367, 554, 555, 556])"
      ]
     },
     "execution_count": 78,
     "metadata": {},
     "output_type": "execute_result"
    }
   ],
   "source": [
    "# соседние пиксели\n",
    "Y[mask]*width + X[mask]"
   ]
  },
  {
   "cell_type": "code",
   "execution_count": 20,
   "metadata": {},
   "outputs": [
    {
     "ename": "AttributeError",
     "evalue": "'numpy.ndarray' object has no attribute 'get_pixel'",
     "output_type": "error",
     "traceback": [
      "\u001b[0;31m---------------------------------------------------------------------------\u001b[0m",
      "\u001b[0;31mAttributeError\u001b[0m                            Traceback (most recent call last)",
      "\u001b[0;32m<ipython-input-20-578f72b6cbc3>\u001b[0m in \u001b[0;36m<module>\u001b[0;34m\u001b[0m\n\u001b[1;32m      8\u001b[0m \u001b[0;32mfor\u001b[0m \u001b[0mi\u001b[0m \u001b[0;32min\u001b[0m \u001b[0mrange\u001b[0m\u001b[0;34m(\u001b[0m\u001b[0;36m0\u001b[0m\u001b[0;34m,\u001b[0m \u001b[0mwidth\u001b[0m\u001b[0;34m)\u001b[0m\u001b[0;34m:\u001b[0m\u001b[0;34m\u001b[0m\u001b[0;34m\u001b[0m\u001b[0m\n\u001b[1;32m      9\u001b[0m     \u001b[0;32mfor\u001b[0m \u001b[0mj\u001b[0m \u001b[0;32min\u001b[0m \u001b[0mrange\u001b[0m\u001b[0;34m(\u001b[0m\u001b[0;36m0\u001b[0m\u001b[0;34m,\u001b[0m \u001b[0mheight\u001b[0m\u001b[0;34m)\u001b[0m\u001b[0;34m:\u001b[0m\u001b[0;34m\u001b[0m\u001b[0;34m\u001b[0m\u001b[0m\n\u001b[0;32m---> 10\u001b[0;31m         \u001b[0mpixel\u001b[0m \u001b[0;34m=\u001b[0m \u001b[0mimg\u001b[0m\u001b[0;34m.\u001b[0m\u001b[0mget_pixel\u001b[0m\u001b[0;34m(\u001b[0m\u001b[0mj\u001b[0m\u001b[0;34m,\u001b[0m \u001b[0mi\u001b[0m\u001b[0;34m)\u001b[0m\u001b[0;34m\u001b[0m\u001b[0;34m\u001b[0m\u001b[0m\n\u001b[0m\u001b[1;32m     11\u001b[0m         \u001b[0mwindows\u001b[0m \u001b[0;34m=\u001b[0m \u001b[0mutil\u001b[0m\u001b[0;34m.\u001b[0m\u001b[0mview_as_windows\u001b[0m\u001b[0;34m(\u001b[0m\u001b[0mpixel\u001b[0m\u001b[0;34m,\u001b[0m \u001b[0;34m(\u001b[0m\u001b[0;36m3\u001b[0m\u001b[0;34m,\u001b[0m \u001b[0;36m3\u001b[0m\u001b[0;34m,\u001b[0m \u001b[0;36m1\u001b[0m\u001b[0;34m)\u001b[0m\u001b[0;34m)\u001b[0m\u001b[0;34m\u001b[0m\u001b[0;34m\u001b[0m\u001b[0m\n\u001b[1;32m     12\u001b[0m         \u001b[0mout\u001b[0m \u001b[0;34m=\u001b[0m \u001b[0mwindows\u001b[0m\u001b[0;34m.\u001b[0m\u001b[0mreshape\u001b[0m\u001b[0;34m(\u001b[0m\u001b[0;34m-\u001b[0m\u001b[0;36m1\u001b[0m\u001b[0;34m,\u001b[0m \u001b[0;36m3\u001b[0m \u001b[0;34m*\u001b[0m \u001b[0;36m3\u001b[0m \u001b[0;34m*\u001b[0m \u001b[0;36m1\u001b[0m\u001b[0;34m)\u001b[0m\u001b[0;34m\u001b[0m\u001b[0;34m\u001b[0m\u001b[0m\n",
      "\u001b[0;31mAttributeError\u001b[0m: 'numpy.ndarray' object has no attribute 'get_pixel'"
     ]
    }
   ],
   "source": [
    "from skimage import util\n",
    "import image\n",
    "\n",
    "img = eopatch.mask_timeless['LULC']\n",
    "eopatch = sampled_eopatches[0]\n",
    "width, height = eopatch.mask_timeless['LULC'].squeeze().shape\n",
    "\n",
    "for i in range(0, width):\n",
    "    for j in range(0, height):\n",
    "        pixel = img.get_pixel(j, i)\n",
    "        windows = util.view_as_windows(pixel, (3, 3, 1))\n",
    "        out = windows.reshape(-1, 3 * 3 * 1)\n",
    "out.shape      "
   ]
  },
  {
   "cell_type": "code",
   "execution_count": 18,
   "metadata": {},
   "outputs": [
    {
     "data": {
      "text/plain": [
       "(4, 189, 194, 9)"
      ]
     },
     "execution_count": 18,
     "metadata": {},
     "output_type": "execute_result"
    }
   ],
   "source": [
    "eopatch.data['FEATURES'].shape"
   ]
  },
  {
   "cell_type": "code",
   "execution_count": 43,
   "metadata": {},
   "outputs": [],
   "source": [
    "eopatch = sampled_eopatches[0]\n",
    "width, height = eopatch.mask_timeless['LULC'].squeeze().shape\n",
    "index = width*height\n",
    "radius = 1.5\n",
    "r = int(radius)\n",
    "\n",
    "for i in range(0, width):\n",
    "    for j in range(0, height):\n",
    "        row, column = i // width, j % width\n",
    "        x = np.arange(max(column - r, 0), min(column + r + 1, width))\n",
    "        y = np.arange(max(row - r, 0), min(row + r + 1, height))\n",
    "        X,Y = np.meshgrid(x,y)\n",
    "        R = np.sqrt(((X - column)**2 + (Y - row)**2))\n",
    "        mask = R < radius\n",
    "        neighbours = Y[mask]*width + X[mask]\n",
    "            \n",
    "        "
   ]
  },
  {
   "cell_type": "code",
   "execution_count": 45,
   "metadata": {},
   "outputs": [
    {
     "data": {
      "text/plain": [
       "5"
      ]
     },
     "execution_count": 45,
     "metadata": {},
     "output_type": "execute_result"
    }
   ],
   "source": [
    "neighbours"
   ]
  },
  {
   "cell_type": "code",
   "execution_count": null,
   "metadata": {},
   "outputs": [],
   "source": []
  },
  {
   "cell_type": "code",
   "execution_count": null,
   "metadata": {},
   "outputs": [],
   "source": []
  },
  {
   "cell_type": "code",
   "execution_count": null,
   "metadata": {},
   "outputs": [],
   "source": []
  },
  {
   "cell_type": "code",
   "execution_count": null,
   "metadata": {},
   "outputs": [],
   "source": []
  },
  {
   "cell_type": "code",
   "execution_count": null,
   "metadata": {},
   "outputs": [],
   "source": []
  },
  {
   "cell_type": "code",
   "execution_count": null,
   "metadata": {},
   "outputs": [],
   "source": []
  },
  {
   "cell_type": "code",
   "execution_count": null,
   "metadata": {},
   "outputs": [],
   "source": [
    "# Definition of the train and test patch IDs, take 80 % for train\n",
    "test_ID = [0, 8, 16, 19, 20]\n",
    "test_eopatches = [sampled_eopatches[i] for i in test_ID]\n",
    "train_ID = [i for i in range(len(patchIDs)) if i not in test_ID]\n",
    "train_eopatches = [sampled_eopatches[i] for i in train_ID]"
   ]
  },
  {
   "cell_type": "code",
   "execution_count": null,
   "metadata": {},
   "outputs": [],
   "source": [
    "# Set the features and the labels for train and test sets\n",
    "features_train = np.array([eopatch.data['FEATURES_SAMPLED'] for eopatch in train_eopatches])\n",
    "labels_train = np.array([eopatch.mask_timeless['LULC_ERODED_SAMPLED'] for eopatch in train_eopatches])\n",
    "p1, t, w, h, f = features_train.shape\n",
    "\n",
    "features_train = np.moveaxis(features_train, 1, 3).reshape(p1 * w * t * h, f)\n",
    "labels_train = np.moveaxis(labels_train, 1, 2).reshape(w*p1)\n",
    "\n"
   ]
  },
  {
   "cell_type": "code",
   "execution_count": null,
   "metadata": {},
   "outputs": [],
   "source": [
    "arr = []\n",
    "for i in range(len(labels_train)):\n",
    "    for j in range(0,t):\n",
    "        arr.append(labels_train[i])\n",
    "labels_train = np.array(arr)\n",
    "\n",
    "# Remove points with no reference from training (so we dont train to recognize \"no data\")\n",
    "mask_train = labels_train == 0\n",
    "features_train = features_train[~mask_train]\n",
    "labels_train = labels_train[~mask_train]\n"
   ]
  },
  {
   "cell_type": "code",
   "execution_count": null,
   "metadata": {},
   "outputs": [],
   "source": [
    "%%time\n",
    "\n",
    "# Set up training classes\n",
    "labels_unique = np.unique(labels_train)\n",
    "\n",
    "# Set up the model\n",
    "model = lgb.LGBMClassifier(\n",
    "    objective='multiclass',\n",
    "    num_class=len(labels_unique),\n",
    "    metric='multi_logloss',\n",
    "    random_state=42\n",
    ")\n",
    "\n",
    "# Train the model\n",
    "model.fit(features_train, labels_train)\n",
    "\n",
    "# Save the model\n",
    "joblib.dump(model, os.path.join(RESULTS_FOLDER, 'model.pkl'))"
   ]
  }
 ],
 "metadata": {
  "interpreter": {
   "hash": "2fc8c1668e02041ac64633e03529e95be94886db02504e9bef7ff6ea53eb8a60"
  },
  "kernelspec": {
   "display_name": "geo",
   "language": "python",
   "name": "geo"
  },
  "language_info": {
   "codemirror_mode": {
    "name": "ipython",
    "version": 3
   },
   "file_extension": ".py",
   "mimetype": "text/x-python",
   "name": "python",
   "nbconvert_exporter": "python",
   "pygments_lexer": "ipython3",
   "version": "3.8.5"
  }
 },
 "nbformat": 4,
 "nbformat_minor": 2
}
