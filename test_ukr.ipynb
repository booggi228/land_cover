{
 "cells": [
  {
   "cell_type": "code",
   "execution_count": 1,
   "id": "16750780",
   "metadata": {},
   "outputs": [],
   "source": [
    "%reload_ext autoreload\n",
    "%autoreload 2\n",
    "%matplotlib inline\n",
    "\n",
    "# Built-in modules\n",
    "import pickle\n",
    "import sys\n",
    "import os\n",
    "import datetime\n",
    "import itertools\n",
    "from aenum import MultiValueEnum\n",
    "import pandas as pd\n",
    "# Basics of Python data handling and visualization\n",
    "import numpy as np\n",
    "np.random.seed(42)\n",
    "import geopandas as gpd\n",
    "import matplotlib as mpl\n",
    "import matplotlib.pyplot as plt\n",
    "import matplotlib.gridspec as gridspec\n",
    "from matplotlib.colors import ListedColormap, BoundaryNorm\n",
    "from mpl_toolkits.axes_grid1 import make_axes_locatable\n",
    "from shapely.geometry import Polygon\n",
    "from tqdm.auto import tqdm\n",
    "from os import makedirs, path as op\n",
    "# Machine learning\n",
    "import lightgbm as lgb\n",
    "import joblib\n",
    "from sklearn import metrics\n",
    "from sklearn import preprocessing\n",
    "\n",
    "# Imports from eo-learn and sentinelhub-py\n",
    "from eolearn.core import EOTask, EOPatch, LinearWorkflow, FeatureType, OverwritePermission, \\\n",
    "    LoadTask, SaveTask, EOExecutor, ExtractBandsTask, MergeFeatureTask\n",
    "from eolearn.io import SentinelHubInputTask, VectorImportTask, ExportToTiff\n",
    "from eolearn.mask import AddValidDataMaskTask\n",
    "from eolearn.geometry import VectorToRaster, PointSamplingTask, ErosionTask\n",
    "from eolearn.features import LinearInterpolation, SimpleFilterTask, NormalizedDifferenceIndexTask\n",
    "from sentinelhub import UtmZoneSplitter, BBox, CRS, DataCollection, SHConfig, BBoxSplitter\n",
    "from utils import (SentinelHubValidData, CountValid, NormalizedDifferenceIndex, ConcatenateData, ValidDataFractionPredicate)"
   ]
  },
  {
   "cell_type": "code",
   "execution_count": 2,
   "id": "d8766f62",
   "metadata": {},
   "outputs": [
    {
     "name": "stderr",
     "output_type": "stream",
     "text": [
      "/home/vlas/.local/lib/python3.8/site-packages/ipykernel/ipkernel.py:283: DeprecationWarning: `should_run_async` will not call `transform_cell` automatically in the future. Please pass the result to `transformed_cell` argument and any exception that happen during thetransform in `preprocessing_exc_tuple` in IPython 7.17 and above.\n",
      "  and should_run_async(code)\n"
     ]
    }
   ],
   "source": [
    "CLIENT_ID = \"f32c25a9-438e-44bd-ba96-1d95c33fe03a\"\n",
    "CLIENT_SECRET = \"@&-d/1)m!SCR%6L?Ki7&v<cp?2G.1nI([(^mH|]u\"\n",
    "    \n",
    "config = SHConfig()\n",
    "config.instance_id = \"8288f09c-5b87-49f8-81bc-76106c4581a6\"\n",
    "    \n",
    "if CLIENT_ID and CLIENT_SECRET:\n",
    "    config.sh_client_id = CLIENT_ID\n",
    "    config.sh_client_secret = CLIENT_SECRET\n",
    "if config.sh_client_id == \"\" or config.sh_client_secret == \"\" or config.instance_id == \"\":\n",
    "    print(\"Warning! To use Sentinel Hub services, please provide the credentials (client ID and client secret).\")\n",
    "# config.save()"
   ]
  },
  {
   "cell_type": "code",
   "execution_count": 3,
   "id": "b208c4d9",
   "metadata": {},
   "outputs": [
    {
     "name": "stdout",
     "output_type": "stream",
     "text": [
      "Dimension of the area is 242185 x 160585 m2\n",
      "Dimension of the area is 24218 x 16058 pixels\n"
     ]
    },
    {
     "data": {
      "image/png": "[encoded data removed]",
      "text/plain": [
       "<Figure size 432x288 with 1 Axes>"
      ]
     },
     "metadata": {
      "needs_background": "light"
     },
     "output_type": "display_data"
    }
   ],
   "source": [
    "\n",
    "# Folder where data for running the notebook is located\n",
    "DATA_FOLDER = os.path.join('.', 'example_data')\n",
    "\n",
    "# Folder where data will be stored\n",
    "EOPATCH_FOLDER = os.path.join('.', 'eopatches')\n",
    "EOPATCH_SAMPLES_FOLDER = os.path.join('.', 'eopatches_sampled')\n",
    "EOPATCH_FOLDER_SLOVENIA = os.path.join('.', 'eopatches_slovenia', 'eopatches')\n",
    "EOPATCH_SAMPLES_FOLDER_SLOVENIA = os.path.join('.', 'eopatches_sampled_slovenia')\n",
    "RESULTS_FOLDER = os.path.join('.', 'results')\n",
    "os.makedirs(EOPATCH_FOLDER, exist_ok=True)\n",
    "os.makedirs(EOPATCH_SAMPLES_FOLDER, exist_ok=True)\n",
    "os.makedirs(RESULTS_FOLDER, exist_ok=True)\n",
    "\n",
    "# Load geojson file\n",
    "countries = gpd.read_file('data.gpkg')\n",
    "country = countries[countries.SOVEREIGNT.str.contains('Slovenia')]\n",
    "#country = gpd.read_file('kiev.json')\n",
    "country_crs = CRS.UTM_33N\n",
    "\n",
    "if country.crs != country_crs:\n",
    "    country = country.to_crs(crs=country_crs.pyproj_crs())\n",
    "\n",
    "country_shape = country.geometry.tolist()[-1]\n",
    "width_pix = int((country_shape.bounds[2]-country_shape.bounds[0])/10)\n",
    "height_pix = int((country_shape.bounds[3]-country_shape.bounds[1])/10)\n",
    "\n",
    "print('Dimension of the area is {0:.0f} x {1:.0f} m2'.format(country_shape.bounds[2]-country_shape.bounds[0],country_shape.bounds[3]-country_shape.bounds[1]))\n",
    "print('Dimension of the area is {} x {} pixels'.format(width_pix, height_pix))\n",
    "\n",
    "bbox_splitter = BBoxSplitter([country_shape], country_crs, (25, 17))\n",
    "bbox_list = bbox_splitter.get_bbox_list()\n",
    "info_list = bbox_splitter.get_info_list()\n",
    "\n",
    "geometry = [Polygon(bbox.get_polygon()) for bbox in bbox_splitter.bbox_list]\n",
    "idxs_x = [info['index_x'] for info in bbox_splitter.info_list]\n",
    "idxs_y = [info['index_y'] for info in bbox_splitter.info_list]\n",
    "\n",
    "df = pd.DataFrame({'index_x':idxs_x, 'index_y':idxs_y})\n",
    "common_crs = bbox_splitter.bbox_list[0].crs\n",
    "gdf = gpd.GeoDataFrame(df, crs=common_crs.pyproj_crs(), geometry=geometry)\n",
    "\n",
    "# Plot country\n",
    "country.plot()\n",
    "plt.axis('off');"
   ]
  },
  {
   "cell_type": "code",
   "execution_count": 4,
   "id": "7d2aa53c",
   "metadata": {},
   "outputs": [
    {
     "name": "stderr",
     "output_type": "stream",
     "text": [
      "/home/vlas/.local/lib/python3.8/site-packages/ipykernel/ipkernel.py:283: DeprecationWarning: `should_run_async` will not call `transform_cell` automatically in the future. Please pass the result to `transformed_cell` argument and any exception that happen during thetransform in `preprocessing_exc_tuple` in IPython 7.17 and above.\n",
      "  and should_run_async(code)\n"
     ]
    }
   ],
   "source": [
    "ID = 100\n",
    "# Obtain surrounding 5x5 patches\n",
    "patchIDs = []\n",
    "for idx, (bbox, info) in enumerate(zip(bbox_list, info_list)):\n",
    "    if (abs(info['index_x'] - info_list[ID]['index_x']) <= 2 and\n",
    "        abs(info['index_y'] - info_list[ID]['index_y']) <= 2):\n",
    "        patchIDs.append(idx)\n",
    "\n",
    "# Check if final size is 3x3\n",
    "if len(patchIDs) != 5*5:\n",
    "    print('Warning! Use a different central patch ID, this one is on the border.')\n",
    "\n",
    "# Change the order of the patches (useful for plotting)\n",
    "patchIDs = np.transpose(np.fliplr(np.array(patchIDs).reshape(5, 5))).ravel()\n",
    "\n",
    "# Save to shapefile\n",
    "shapefile_name = 'ukraine_500x500.gpkg'\n",
    "gdf.to_file(os.path.join(RESULTS_FOLDER, shapefile_name), driver='GPKG')"
   ]
  },
  {
   "cell_type": "code",
   "execution_count": 5,
   "id": "ea2b0747",
   "metadata": {},
   "outputs": [],
   "source": [
    "# Load sampled eopatches\n",
    "sampled_eopatches = []\n",
    "\n",
    "for i in range(len(patchIDs)):\n",
    "    sample_path = os.path.join('./eopatches_sampled_slovenia/', f'eopatch_{i}')\n",
    "    sampled_eopatches.append(EOPatch.load(sample_path, lazy_loading=True))"
   ]
  },
  {
   "cell_type": "code",
   "execution_count": 6,
   "id": "77760f55",
   "metadata": {},
   "outputs": [],
   "source": [
    "test_ID = [0, 8, 16, 19, 20,1,2,3,4,5,6,7,9,11,12,13,14,15,17,18,21,22,23,24]\n",
    "test_eopatches = [sampled_eopatches[i] for i in test_ID]\n",
    "train_ID = [i for i in range(len(patchIDs)) if i not in test_ID]\n",
    "train_eopatches = [sampled_eopatches[i] for i in train_ID]"
   ]
  },
  {
   "cell_type": "code",
   "execution_count": 7,
   "id": "6ebe7e21",
   "metadata": {},
   "outputs": [],
   "source": [
    "# Set the features and the labels for train and test sets\n",
    "features_train = np.array([eopatch.data['FEATURES_SAMPLED'] for eopatch in train_eopatches])\n",
    "labels_train = np.array([eopatch.mask_timeless['LULC_ERODED_SAMPLED'] for eopatch in train_eopatches])\n",
    "p1, t, w, h, f = features_train.shape\n",
    " \n",
    "# features_test = np.array([eopatch.data['FEATURES_SAMPLED'] for eopatch in test_eopatches])\n",
    "# labels_test = np.array([eopatch.mask_timeless['LULC_ERODED_SAMPLED'] for eopatch in test_eopatches])\n",
    "\n",
    "# Get shape\n",
    "# p2, t, w, h, f = features_test.shape\n",
    "# p = p1 + p2\n",
    "\n",
    "# features_test = np.moveaxis(features_test, 1, 3).reshape(p2 * w * h, t * f)\n",
    "# labels_test = np.moveaxis(labels_test, 1, 2).reshape(p2 * w * h)\n",
    "\n",
    "features_train = np.moveaxis(features_train, 1, 3).reshape(p1 * w * t * h, f)\n",
    "labels_train = np.moveaxis(labels_train, 1, 2).reshape(w)\n",
    "arr = []\n",
    "for i in range(len(labels_train)):\n",
    "    for j in range(0,t):\n",
    "        arr.append(labels_train[i])\n",
    "labels_train = np.array(arr)\n",
    "\n",
    "# Remove points with no reference from training (so we dont train to recognize \"no data\")\n",
    "# mask_train = labels_train == 0\n",
    "# features_train = features_train[~mask_train]\n",
    "# labels_train = labels_train[~mask_train]\n",
    "\n",
    "# # Remove points with no reference from test (so we dont validate on \"no data\", which doesn't make sense)\n",
    "# mask_test = labels_test == 0\n",
    "# features_test = features_test[~mask_test]\n",
    "# labels_test = labels_test[~mask_test]"
   ]
  },
  {
   "cell_type": "code",
   "execution_count": null,
   "id": "25c013e2",
   "metadata": {},
   "outputs": [],
   "source": [
    "first = features_train[:,0]\n",
    "second = features_train[0,:]\n",
    "\n",
    "dic = dict(zip(first, labels_train))\n",
    "final = {key:value for key,value in dic.items() if value != 0}\n",
    "features, labels = zip(*final.items())\n",
    "\n"
   ]
  },
  {
   "cell_type": "code",
   "execution_count": 8,
   "id": "8a3111cd",
   "metadata": {},
   "outputs": [
    {
     "data": {
      "text/plain": [
       "array([[        nan,         nan,         nan, ...,         nan,\n",
       "                nan,         nan],\n",
       "       [ 0.11852857,  0.09105714,  0.08424286, ...,  0.52148694,\n",
       "        -0.49247682, -0.21397035],\n",
       "       [ 0.11051428,  0.08942857,  0.08197143, ...,  0.49284428,\n",
       "        -0.45893472, -0.1451616 ],\n",
       "       ...,\n",
       "       [        nan,         nan,         nan, ...,         nan,\n",
       "                nan,         nan],\n",
       "       [        nan,         nan,         nan, ...,         nan,\n",
       "                nan,         nan],\n",
       "       [        nan,         nan,         nan, ...,         nan,\n",
       "                nan,         nan]])"
      ]
     },
     "execution_count": 8,
     "metadata": {},
     "output_type": "execute_result"
    }
   ],
   "source": [
    "features_train"
   ]
  },
  {
   "cell_type": "code",
   "execution_count": 9,
   "id": "69137fed",
   "metadata": {},
   "outputs": [
    {
     "data": {
      "text/plain": [
       "array([0, 0, 0, ..., 0, 0, 0], dtype=uint8)"
      ]
     },
     "execution_count": 9,
     "metadata": {},
     "output_type": "execute_result"
    }
   ],
   "source": [
    "labels_train"
   ]
  },
  {
   "cell_type": "code",
   "execution_count": null,
   "id": "eefbbc65",
   "metadata": {},
   "outputs": [],
   "source": [
    "# Load the model\n",
    "model_path = os.path.join(RESULTS_FOLDER, 'model_SI_LULC.pkl')\n",
    "model = joblib.load(model_path)\n",
    "\n",
    "# Predict the test labels\n",
    "predicted_labels_test = model.predict(features_test)"
   ]
  },
  {
   "cell_type": "code",
   "execution_count": null,
   "id": "68034a68",
   "metadata": {},
   "outputs": [],
   "source": [
    "class PredictPatchTask(EOTask):\n",
    "    \"\"\"\n",
    "    Task to make model predictions on a patch. Provide the model and the feature,\n",
    "    and the output names of labels and scores (optional)\n",
    "    \"\"\"\n",
    "    def __init__(self, model, features_feature, predicted_labels_name, predicted_scores_name=None):\n",
    "        self.model = model\n",
    "        self.features_feature = features_feature\n",
    "        self.predicted_labels_name = predicted_labels_name\n",
    "        self.predicted_scores_name = predicted_scores_name\n",
    "\n",
    "    def execute(self, eopatch):\n",
    "        features = eopatch[self.features_feature]\n",
    "        features = features[:2500000]\n",
    "        t, w, h, f = features.shape\n",
    "        features = np.moveaxis(features, 0, 2).reshape(w * h * t, f)\n",
    "\n",
    "        predicted_labels = self.model.predict(features)\n",
    "        predicted_labels = predicted_labels.reshape(w, h)\n",
    "        predicted_labels = predicted_labels[..., np.newaxis]\n",
    "        eopatch[(FeatureType.MASK_TIMELESS, self.predicted_labels_name)] = predicted_labels\n",
    "\n",
    "        if self.predicted_scores_name:\n",
    "            predicted_scores = self.model.predict_proba(features)\n",
    "            _, d = predicted_scores.shape\n",
    "            predicted_scores = predicted_scores.reshape(w, h, d)\n",
    "            eopatch[(FeatureType.DATA_TIMELESS, self.predicted_scores_name)] = predicted_scores\n",
    "\n",
    "        return eopatch"
   ]
  },
  {
   "cell_type": "code",
   "execution_count": null,
   "id": "709a5c9f",
   "metadata": {},
   "outputs": [],
   "source": [
    "# LOAD EXISTING EOPATCHES\n",
    "load = LoadTask(EOPATCH_SAMPLES_FOLDER_SLOVENIA)\n",
    "\n",
    "# PREDICT\n",
    "predict = PredictPatchTask(model, (FeatureType.DATA, 'FEATURES'), 'LBL_GBM', 'SCR_GBM')\n",
    "\n",
    "# SAVE\n",
    "save = SaveTask(EOPATCH_SAMPLES_FOLDER, overwrite_permission=OverwritePermission.OVERWRITE_PATCH)\n",
    "\n",
    "# EXPORT TIFF\n",
    "export_tiff = ExportToTiff((FeatureType.MASK_TIMELESS, 'LBL_GBM'))\n",
    "tiff_location = os.path.join(RESULTS_FOLDER, 'predicted_tiff')\n",
    "os.makedirs(tiff_location, exist_ok=True)\n",
    "\n",
    "workflow = LinearWorkflow(\n",
    "    load,\n",
    "    predict,\n",
    "    export_tiff,\n",
    "    save\n",
    ")"
   ]
  },
  {
   "cell_type": "code",
   "execution_count": null,
   "id": "7bceabb0",
   "metadata": {},
   "outputs": [],
   "source": [
    "# Create a list of execution arguments for each patch\n",
    "execution_args = []\n",
    "for i in range(len(patchIDs)):\n",
    "    execution_args.append(\n",
    "        {\n",
    "            load: {'eopatch_folder': f'eopatch_{i}'},\n",
    "            export_tiff: {'filename': f'{tiff_location}/prediction_eopatch_{i}.tiff'},\n",
    "            save: {'eopatch_folder': f'eopatch_{i}'}\n",
    "        }\n",
    "    )\n",
    "\n",
    "# Run the executor\n",
    "executor = EOExecutor(workflow, execution_args)\n",
    "executor.run(workers=1, multiprocess=False)\n",
    "executor.make_report()\n",
    "\n",
    "failed_ids = executor.get_failed_executions()\n",
    "if failed_ids:\n",
    "    raise RuntimeError(f'Execution failed EOPatches with IDs:\\n{failed_ids}\\n'\n",
    "                       f'For more info check report at {executor.get_report_filename()}')"
   ]
  },
  {
   "cell_type": "code",
   "execution_count": null,
   "id": "b8a2d0b5",
   "metadata": {},
   "outputs": [],
   "source": [
    "# ValueError: During execution of task PredictPatchTask: cannot reshape array of size 6250000 into shape (500,500)"
   ]
  },
  {
   "cell_type": "code",
   "execution_count": null,
   "id": "ba808e26",
   "metadata": {},
   "outputs": [],
   "source": []
  }
 ],
 "metadata": {
  "kernelspec": {
   "display_name": "geo",
   "language": "python",
   "name": "geo"
  },
  "language_info": {
   "codemirror_mode": {
    "name": "ipython",
    "version": 3
   },
   "file_extension": ".py",
   "mimetype": "text/x-python",
   "name": "python",
   "nbconvert_exporter": "python",
   "pygments_lexer": "ipython3",
   "version": "3.8.5"
  }
 },
 "nbformat": 4,
 "nbformat_minor": 5
}
